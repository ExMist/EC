{
 "cells": [
  {
   "cell_type": "markdown",
   "metadata": {},
   "source": [
    "# Lab 2 Travelling salesman problem (TSP)"
   ]
  },
  {
   "cell_type": "markdown",
   "metadata": {},
   "source": [
    "__Simulated annealing (SA)__ is a probabilistic technique for approximating the global optimum of a given function. "
   ]
  },
  {
   "cell_type": "markdown",
   "metadata": {},
   "source": [
    "The idea behind the method is that in the metaphor with statistical mechanics, the sum of the distances between all the cities is the energy of the system, which we wish to minimize. We consider the Gibbs factor: \n",
    "\n",
    "\\begin{equation*}\n",
    "\\mathrm{e}^{-\\Delta E / T}\n",
    "\\end{equation*}\n",
    "\n",
    "of the exponential of the (negative) change in energy over temperature which should be something like the probability of transitioning to the new state from the old one. \n",
    "\n",
    "If this factor has\n",
    "\\begin{equation*} \n",
    "\\mathrm{e}^{-\\Delta E / T}>1\n",
    "\\end{equation*}\n",
    "then the new energy is lower, and we should definitely take the new tour. Otherwise, even if it’s worse, we want to take the new tour with some probability so that we don’t get stuck in a local minimum."
   ]
  },
  {
   "cell_type": "code",
   "execution_count": 1,
   "metadata": {},
   "outputs": [],
   "source": [
    "import random\n",
    "import numpy as np\n",
    "import matplotlib.pyplot as plt\n",
    "import pandas as pd\n",
    "import glob "
   ]
  },
  {
   "cell_type": "code",
   "execution_count": 2,
   "metadata": {},
   "outputs": [],
   "source": [
    "### read cities coordinates from http://www.math.uwaterloo.ca/tsp/vlsi/index.html#XQF131\n",
    "\n",
    "def read_cities_coord(filepath):\n",
    "    with open(filepath, \"r\") as f:\n",
    "        file = f.read().splitlines()\n",
    "    cities = []\n",
    "    for coords in file:\n",
    "        city = coords.split(' ')\n",
    "        cities.append([int(city[1]), int(city[2])])\n",
    "    return cities"
   ]
  },
  {
   "cell_type": "code",
   "execution_count": 3,
   "metadata": {},
   "outputs": [],
   "source": [
    "### calculate Euclidean distance for the tour \n",
    "\n",
    "def calculate_dist(cities, tour, i, j):\n",
    "    n_cities = len(cities)\n",
    "    dist = sum([ math.sqrt(sum([(cities[tour[(k+1) % n_cities]][d] - cities[tour[k % n_cities]][d])**2 for d in [0,1] ])) for k in range(n_cities)]) \n",
    "    return dist"
   ]
  },
  {
   "cell_type": "code",
   "execution_count": 4,
   "metadata": {},
   "outputs": [],
   "source": [
    "#visuilize results \n",
    "\n",
    "def present_results(cities, tour, dist_list):\n",
    "    n_cities = len(cities)\n",
    "    \n",
    "    plt.plot([cities[tour[i % n_cities]][0] for i in range(n_cities+1)], [cities[tour[i % n_cities]][1] for i in range(n_cities+1)], 'o-')\n",
    "    plt.title('Optimal path')\n",
    "    plt.xlabel('x-coord')\n",
    "    plt.ylabel('y_coord')\n",
    "    plt.show()\n",
    "    \n",
    "    plt.plot(dist_list)\n",
    "    plt.xlabel('Iterations')\n",
    "    plt.ylabel('Dist')\n",
    "    plt.title('Distance')\n",
    "    plt.show()\n",
    "    \n",
    "    res = pd.DataFrame([cities[x] for x in tour])\n",
    "    res['N'] = tour\n",
    "    res = res.rename(columns = {0 : 'x-coord', 1 : 'y-coord'}).set_index('N')\n",
    "    \n",
    "    return res"
   ]
  },
  {
   "cell_type": "code",
   "execution_count": 5,
   "metadata": {},
   "outputs": [],
   "source": [
    "n_inter = 100000\n",
    "\n",
    "benchmark_dist = {\n",
    "    'pma343' : 1368,\n",
    "    'xqf131' : 564, \n",
    "    'xqg237' : 1019\n",
    "}\n",
    "\n",
    "for file in glob.glob('/Lab2_TSP/data/' + '*.txt'):\n",
    "    name = file.split('/')[-1].replace('.txt', '')\n",
    "    cities = read_cities_coord(file)\n",
    "    n_cities = len(cities)\n",
    "    tour = random.sample(range(n_cities),n_cities); # define initial tour\n",
    "    dist = []\n",
    "\n",
    "    for temperature in numpy.logspace(0,5,num=n_inter)[::-1]: # exponentially distributed temperatures\n",
    "\n",
    "        [i,j] = sorted(random.sample(range(n_cities),2)); # randomly select two cities \n",
    "\n",
    "        new_tour = tour.copy()\n",
    "        new_tour[i], new_tour[j] = new_tour[j], new_tour[i] # swap two cities\n",
    "\n",
    "        old_dist = calculate_dist(cities=cities, tour=tour, i=i, j=j) # calculate dist for old tour\n",
    "        new_dist = calculate_dist(cities=cities, tour=new_tour, i=i, j=j) # calculate dist for new tour\n",
    "\n",
    "        if math.exp((old_dist - new_dist) / temperature) > random.random(): \n",
    "            tour = copy.copy(new_tour);\n",
    "            dist.append(new_dist)\n",
    "\n",
    "    min_dist = sum([ math.sqrt(sum([(cities[tour[(k+1) % n_cities]][d] - cities[tour[k % n_cities]][d])**2 for d in [0,1] ])) for k in range(n_cities)]) \n",
    "    \n",
    "    print('The min distance: {}'.format(np.round(new_dist)))\n",
    "    print('The benchmark distance ({} instance): {}'.format(name, benchmark_dist[name]))\n",
    "    res_df = present_results(cities=cities, tour=tour, dist_list=dist)\n",
    "    print('----------------')\n"
   ]
  },
  {
   "cell_type": "code",
   "execution_count": null,
   "metadata": {},
   "outputs": [],
   "source": []
  }
 ],
 "metadata": {
  "kernelspec": {
   "display_name": "Python 3",
   "language": "python",
   "name": "python3"
  },
  "language_info": {
   "codemirror_mode": {
    "name": "ipython",
    "version": 3
   },
   "file_extension": ".py",
   "mimetype": "text/x-python",
   "name": "python",
   "nbconvert_exporter": "python",
   "pygments_lexer": "ipython3",
   "version": "3.7.6"
  }
 },
 "nbformat": 4,
 "nbformat_minor": 2
}
